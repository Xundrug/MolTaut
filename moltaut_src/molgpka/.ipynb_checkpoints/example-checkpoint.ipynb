{
 "cells": [
  {
   "cell_type": "code",
   "execution_count": 13,
   "metadata": {},
   "outputs": [],
   "source": [
    "from rdkit import Chem\n",
    "from rdkit.Chem import AllChem\n",
    "from rdkit import RDLogger\n",
    "RDLogger.DisableLog('rdApp.*')\n",
    "from rdkit.Chem.MolStandardize import rdMolStandardize\n",
    "\n",
    "import os.path as osp\n",
    "import numpy as np\n",
    "import pandas as pd\n",
    "\n",
    "import torch\n",
    "from utils.ionization_group import get_ionization_aid\n",
    "from utils.descriptor import mol2vec\n",
    "from utils.net import GCNNet\n",
    "import py3Dmol\n",
    "\n",
    "root = osp.abspath(\"\")\n",
    "\n",
    "def load_model(model_file, device=\"cpu\"):\n",
    "    model= GCNNet().to(device)\n",
    "    model.load_state_dict(torch.load(model_file, map_location=device))\n",
    "    model.eval()\n",
    "    return model\n",
    "\n",
    "def model_pred(m2, aid, model, device=\"cpu\"):\n",
    "    data = mol2vec(m2, aid)\n",
    "    with torch.no_grad():\n",
    "        data = data.to(device)\n",
    "        pKa = model(data)\n",
    "        pKa = pKa.cpu().numpy()\n",
    "        pka = pKa[0][0]\n",
    "    return pka\n",
    "\n",
    "def predict_acid(mol):\n",
    "    model_file = osp.join(root, \"../models/weight_acid.pth\")\n",
    "    model_acid = load_model(model_file)\n",
    "\n",
    "    acid_idxs= get_ionization_aid(mol, acid_or_base=\"acid\")\n",
    "    acid_res = {}\n",
    "    for aid in acid_idxs:\n",
    "        apka = model_pred(mol, aid, model_acid)\n",
    "        acid_res.update({aid:apka})\n",
    "    return acid_res\n",
    "\n",
    "def predict_base(mol):\n",
    "    model_file = osp.join(root, \"../models/weight_base.pth\")\n",
    "    model_base = load_model(model_file)\n",
    "\n",
    "    base_idxs= get_ionization_aid(mol, acid_or_base=\"base\")\n",
    "    base_res = {}\n",
    "    for aid in base_idxs:\n",
    "        bpka = model_pred(mol, aid, model_base) \n",
    "        base_res.update({aid:bpka})\n",
    "    return base_res\n",
    "\n",
    "def predict(mol, uncharged=True):\n",
    "    if uncharged:\n",
    "        un = rdMolStandardize.Uncharger()\n",
    "        mol = un.uncharge(mol)\n",
    "        mol = Chem.MolFromSmiles(Chem.MolToSmiles(mol))\n",
    "    mol = AllChem.AddHs(mol)\n",
    "    base_dict = predict_base(mol)\n",
    "    acid_dict = predict_acid(mol)\n",
    "    AllChem.EmbedMolecule(mol)\n",
    "    return base_dict, acid_dict, mol\n",
    "\n",
    "def drawit(m, atom_idxs, pkas, p=None, confId=-1):\n",
    "    mb = Chem.MolToMolBlock(m, confId=confId)\n",
    "    if p is None:\n",
    "        p = py3Dmol.view(width=600, height=400)\n",
    "    p.removeAllModels()\n",
    "    p.addModel(mb, 'sdf')\n",
    "    for pka, idx in zip(pkas, atom_idxs):\n",
    "        pos = m.GetConformer().GetAtomPosition(idx)\n",
    "        label = \"pKa={:.3}\".format(round(pka, 1))\n",
    "        p.addLabel(label, {\"position\": {\"x\": pos.x, \"y\":pos.y, \"z\": pos.z}, \"fontSize\":10})\n",
    "    p.setStyle({'stick':{'colorscheme':'greenCarbon'}})\n",
    "    p.setBackgroundColor('0xeeeeee')\n",
    "    p.zoomTo()\n",
    "    return p.show()"
   ]
  },
  {
   "cell_type": "code",
   "execution_count": 16,
   "metadata": {},
   "outputs": [
    {
     "data": {
      "application/3dmoljs_load.v0": "<div id=\"3dmolviewer_16294288301609457\"  style=\"position: relative; width: 600px; height: 400px\">\n        <p id=\"3dmolwarning_16294288301609457\" style=\"background-color:#ffcccc;color:black\">You appear to be running in JupyterLab (or JavaScript failed to load for some other reason).  You need to install the 3dmol extension: <br>\n        <tt>jupyter labextension install jupyterlab_3dmol</tt></p>\n        </div>\n<script>\n\nvar loadScriptAsync = function(uri){\n  return new Promise((resolve, reject) => {\n    var tag = document.createElement('script');\n    tag.src = uri;\n    tag.async = true;\n    tag.onload = () => {\n      resolve();\n    };\n  var firstScriptTag = document.getElementsByTagName('script')[0];\n  firstScriptTag.parentNode.insertBefore(tag, firstScriptTag);\n});\n};\n\nif(typeof $3Dmolpromise === 'undefined') {\n$3Dmolpromise = null;\n  $3Dmolpromise = loadScriptAsync('https://3dmol.org/build/3Dmol.js');\n}\n\nvar viewer_16294288301609457 = null;\nvar warn = document.getElementById(\"3dmolwarning_16294288301609457\");\nif(warn) {\n    warn.parentNode.removeChild(warn);\n}\n$3Dmolpromise.then(function() {\nviewer_16294288301609457 = $3Dmol.createViewer($(\"#3dmolviewer_16294288301609457\"),{backgroundColor:\"white\"});\nviewer_16294288301609457.zoomTo();\n\tviewer_16294288301609457.removeAllModels();\n\tviewer_16294288301609457.addModel(\"\\n     RDKit          3D\\n\\n 27 29  0  0  0  0  0  0  0  0999 V2000\\n   -1.7644   -3.8411    1.0929 Cl  0  0  0  0  0  0  0  0  0  0  0  0\\n   -2.0120   -2.1394    0.6754 C   0  0  0  0  0  0  0  0  0  0  0  0\\n   -3.2028   -1.5073    0.9958 C   0  0  0  0  0  0  0  0  0  0  0  0\\n   -3.3847   -0.1810    0.6656 C   0  0  0  0  0  0  0  0  0  0  0  0\\n   -2.3697    0.4884    0.0202 C   0  0  0  0  0  0  0  0  0  0  0  0\\n   -2.5285    1.7785   -0.3217 N   0  0  0  0  0  0  0  0  0  0  0  0\\n   -1.5836    2.4810   -0.9591 C   0  0  0  0  0  0  0  0  0  0  0  0\\n   -0.4081    1.8599   -1.2746 C   0  0  0  0  0  0  0  0  0  0  0  0\\n   -0.1624    0.5214   -0.9544 C   0  0  0  0  0  0  0  0  0  0  0  0\\n    1.1360   -0.0503   -1.2934 C   0  0  0  0  0  0  0  0  0  0  0  0\\n    2.1097   -0.0956   -0.2555 N   0  0  0  0  0  0  0  0  0  0  0  0\\n    3.0016    0.8797    0.0271 C   0  0  0  0  0  0  0  0  0  0  0  0\\n    3.7476    0.4301    1.0814 C   0  0  0  0  0  0  0  0  0  0  0  0\\n    3.3022   -0.8272    1.4380 C   0  0  0  0  0  0  0  0  0  0  0  0\\n    2.3080   -1.0843    0.5866 N   0  0  0  0  0  0  0  0  0  0  0  0\\n   -1.1624   -0.1445   -0.3063 C   0  0  0  0  0  0  0  0  0  0  0  0\\n   -1.0016   -1.4700    0.0319 C   0  0  0  0  0  0  0  0  0  0  0  0\\n   -3.9840   -2.0565    1.5034 H   0  0  0  0  0  0  0  0  0  0  0  0\\n   -4.3288    0.3138    0.9213 H   0  0  0  0  0  0  0  0  0  0  0  0\\n   -1.8162    3.5134   -1.1872 H   0  0  0  0  0  0  0  0  0  0  0  0\\n    0.3601    2.4313   -1.7925 H   0  0  0  0  0  0  0  0  0  0  0  0\\n    1.5942    0.5474   -2.1352 H   0  0  0  0  0  0  0  0  0  0  0  0\\n    0.9516   -1.0901   -1.6768 H   0  0  0  0  0  0  0  0  0  0  0  0\\n    3.0929    1.8064   -0.4783 H   0  0  0  0  0  0  0  0  0  0  0  0\\n    4.5617    0.9338    1.5890 H   0  0  0  0  0  0  0  0  0  0  0  0\\n    3.6433   -1.4869    2.2134 H   0  0  0  0  0  0  0  0  0  0  0  0\\n   -0.0996   -2.0108   -0.2071 H   0  0  0  0  0  0  0  0  0  0  0  0\\n  1  2  1  0\\n  2  3  2  0\\n  3  4  1  0\\n  4  5  2  0\\n  5  6  1  0\\n  6  7  2  0\\n  7  8  1  0\\n  8  9  2  0\\n  9 10  1  0\\n 10 11  1  0\\n 11 12  1  0\\n 12 13  2  0\\n 13 14  1  0\\n 14 15  2  0\\n  9 16  1  0\\n 16 17  2  0\\n 17  2  1  0\\n 16  5  1  0\\n 15 11  1  0\\n  3 18  1  0\\n  4 19  1  0\\n  7 20  1  0\\n  8 21  1  0\\n 10 22  1  0\\n 10 23  1  0\\n 12 24  1  0\\n 13 25  1  0\\n 14 26  1  0\\n 17 27  1  0\\nM  END\\n\",\"sdf\");\n\tviewer_16294288301609457.addLabel(\"pKa=4.1\",{\"position\": {\"x\": -2.528528211833944, \"y\": 1.77848642355171, \"z\": -0.32165179088324425}, \"fontSize\": 10});\n\tviewer_16294288301609457.addLabel(\"pKa=3.5\",{\"position\": {\"x\": 2.3080171169852544, \"y\": -1.0843108210832737, \"z\": 0.58664850633717}, \"fontSize\": 10});\n\tviewer_16294288301609457.setStyle({\"stick\": {\"colorscheme\": \"greenCarbon\"}});\n\tviewer_16294288301609457.setBackgroundColor(\"0xeeeeee\");\n\tviewer_16294288301609457.zoomTo();\nviewer_16294288301609457.render();\n});\n</script>",
      "text/html": [
       "<div id=\"3dmolviewer_16294288301609457\"  style=\"position: relative; width: 600px; height: 400px\">\n",
       "        <p id=\"3dmolwarning_16294288301609457\" style=\"background-color:#ffcccc;color:black\">You appear to be running in JupyterLab (or JavaScript failed to load for some other reason).  You need to install the 3dmol extension: <br>\n",
       "        <tt>jupyter labextension install jupyterlab_3dmol</tt></p>\n",
       "        </div>\n",
       "<script>\n",
       "\n",
       "var loadScriptAsync = function(uri){\n",
       "  return new Promise((resolve, reject) => {\n",
       "    var tag = document.createElement('script');\n",
       "    tag.src = uri;\n",
       "    tag.async = true;\n",
       "    tag.onload = () => {\n",
       "      resolve();\n",
       "    };\n",
       "  var firstScriptTag = document.getElementsByTagName('script')[0];\n",
       "  firstScriptTag.parentNode.insertBefore(tag, firstScriptTag);\n",
       "});\n",
       "};\n",
       "\n",
       "if(typeof $3Dmolpromise === 'undefined') {\n",
       "$3Dmolpromise = null;\n",
       "  $3Dmolpromise = loadScriptAsync('https://3dmol.org/build/3Dmol.js');\n",
       "}\n",
       "\n",
       "var viewer_16294288301609457 = null;\n",
       "var warn = document.getElementById(\"3dmolwarning_16294288301609457\");\n",
       "if(warn) {\n",
       "    warn.parentNode.removeChild(warn);\n",
       "}\n",
       "$3Dmolpromise.then(function() {\n",
       "viewer_16294288301609457 = $3Dmol.createViewer($(\"#3dmolviewer_16294288301609457\"),{backgroundColor:\"white\"});\n",
       "viewer_16294288301609457.zoomTo();\n",
       "\tviewer_16294288301609457.removeAllModels();\n",
       "\tviewer_16294288301609457.addModel(\"\\n     RDKit          3D\\n\\n 27 29  0  0  0  0  0  0  0  0999 V2000\\n   -1.7644   -3.8411    1.0929 Cl  0  0  0  0  0  0  0  0  0  0  0  0\\n   -2.0120   -2.1394    0.6754 C   0  0  0  0  0  0  0  0  0  0  0  0\\n   -3.2028   -1.5073    0.9958 C   0  0  0  0  0  0  0  0  0  0  0  0\\n   -3.3847   -0.1810    0.6656 C   0  0  0  0  0  0  0  0  0  0  0  0\\n   -2.3697    0.4884    0.0202 C   0  0  0  0  0  0  0  0  0  0  0  0\\n   -2.5285    1.7785   -0.3217 N   0  0  0  0  0  0  0  0  0  0  0  0\\n   -1.5836    2.4810   -0.9591 C   0  0  0  0  0  0  0  0  0  0  0  0\\n   -0.4081    1.8599   -1.2746 C   0  0  0  0  0  0  0  0  0  0  0  0\\n   -0.1624    0.5214   -0.9544 C   0  0  0  0  0  0  0  0  0  0  0  0\\n    1.1360   -0.0503   -1.2934 C   0  0  0  0  0  0  0  0  0  0  0  0\\n    2.1097   -0.0956   -0.2555 N   0  0  0  0  0  0  0  0  0  0  0  0\\n    3.0016    0.8797    0.0271 C   0  0  0  0  0  0  0  0  0  0  0  0\\n    3.7476    0.4301    1.0814 C   0  0  0  0  0  0  0  0  0  0  0  0\\n    3.3022   -0.8272    1.4380 C   0  0  0  0  0  0  0  0  0  0  0  0\\n    2.3080   -1.0843    0.5866 N   0  0  0  0  0  0  0  0  0  0  0  0\\n   -1.1624   -0.1445   -0.3063 C   0  0  0  0  0  0  0  0  0  0  0  0\\n   -1.0016   -1.4700    0.0319 C   0  0  0  0  0  0  0  0  0  0  0  0\\n   -3.9840   -2.0565    1.5034 H   0  0  0  0  0  0  0  0  0  0  0  0\\n   -4.3288    0.3138    0.9213 H   0  0  0  0  0  0  0  0  0  0  0  0\\n   -1.8162    3.5134   -1.1872 H   0  0  0  0  0  0  0  0  0  0  0  0\\n    0.3601    2.4313   -1.7925 H   0  0  0  0  0  0  0  0  0  0  0  0\\n    1.5942    0.5474   -2.1352 H   0  0  0  0  0  0  0  0  0  0  0  0\\n    0.9516   -1.0901   -1.6768 H   0  0  0  0  0  0  0  0  0  0  0  0\\n    3.0929    1.8064   -0.4783 H   0  0  0  0  0  0  0  0  0  0  0  0\\n    4.5617    0.9338    1.5890 H   0  0  0  0  0  0  0  0  0  0  0  0\\n    3.6433   -1.4869    2.2134 H   0  0  0  0  0  0  0  0  0  0  0  0\\n   -0.0996   -2.0108   -0.2071 H   0  0  0  0  0  0  0  0  0  0  0  0\\n  1  2  1  0\\n  2  3  2  0\\n  3  4  1  0\\n  4  5  2  0\\n  5  6  1  0\\n  6  7  2  0\\n  7  8  1  0\\n  8  9  2  0\\n  9 10  1  0\\n 10 11  1  0\\n 11 12  1  0\\n 12 13  2  0\\n 13 14  1  0\\n 14 15  2  0\\n  9 16  1  0\\n 16 17  2  0\\n 17  2  1  0\\n 16  5  1  0\\n 15 11  1  0\\n  3 18  1  0\\n  4 19  1  0\\n  7 20  1  0\\n  8 21  1  0\\n 10 22  1  0\\n 10 23  1  0\\n 12 24  1  0\\n 13 25  1  0\\n 14 26  1  0\\n 17 27  1  0\\nM  END\\n\",\"sdf\");\n",
       "\tviewer_16294288301609457.addLabel(\"pKa=4.1\",{\"position\": {\"x\": -2.528528211833944, \"y\": 1.77848642355171, \"z\": -0.32165179088324425}, \"fontSize\": 10});\n",
       "\tviewer_16294288301609457.addLabel(\"pKa=3.5\",{\"position\": {\"x\": 2.3080171169852544, \"y\": -1.0843108210832737, \"z\": 0.58664850633717}, \"fontSize\": 10});\n",
       "\tviewer_16294288301609457.setStyle({\"stick\": {\"colorscheme\": \"greenCarbon\"}});\n",
       "\tviewer_16294288301609457.setBackgroundColor(\"0xeeeeee\");\n",
       "\tviewer_16294288301609457.zoomTo();\n",
       "viewer_16294288301609457.render();\n",
       "});\n",
       "</script>"
      ]
     },
     "metadata": {},
     "output_type": "display_data"
    }
   ],
   "source": [
    "mol = Chem.MolFromSmiles(\"CN(C)CCCN1C2=CC=CC=C2SC2=C1C=C(C=C2)C(C)=O\")\n",
    "base_dict, acid_dict, m = predict(mol)\n",
    "atom_idx = list(base_dict.keys()) + list(acid_dict.keys())\n",
    "pkas = list(base_dict.values()) + list(acid_dict.values())\n",
    "drawit(m, atom_idx, pkas)"
   ]
  },
  {
   "cell_type": "code",
   "execution_count": 9,
   "metadata": {},
   "outputs": [
    {
     "data": {
      "image/png": "[encoded data removed]",
      "text/plain": [
       "<rdkit.Chem.rdchem.Mol at 0x7f32ea788a30>"
      ]
     },
     "execution_count": 9,
     "metadata": {},
     "output_type": "execute_result"
    }
   ],
   "source": [
    "mol"
   ]
  },
  {
   "cell_type": "code",
   "execution_count": null,
   "metadata": {},
   "outputs": [],
   "source": []
  }
 ],
 "metadata": {
  "kernelspec": {
   "display_name": "PyG",
   "language": "python",
   "name": "pyg"
  },
  "language_info": {
   "codemirror_mode": {
    "name": "ipython",
    "version": 3
   },
   "file_extension": ".py",
   "mimetype": "text/x-python",
   "name": "python",
   "nbconvert_exporter": "python",
   "pygments_lexer": "ipython3",
   "version": "3.7.9"
  }
 },
 "nbformat": 4,
 "nbformat_minor": 4
}
